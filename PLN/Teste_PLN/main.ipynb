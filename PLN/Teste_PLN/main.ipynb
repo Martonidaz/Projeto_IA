{
 "cells": [
  {
   "cell_type": "code",
   "execution_count": null,
   "metadata": {},
   "outputs": [],
   "source": [
    "import pandas as pd\n",
    "\n",
    "# Carregar o dataset\n",
    "dados = pd.read_csv(\"Historico_de_materias.csv\")\n",
    "\n",
    "# Exibir as 5 primeiras linhas do dataset\n",
    "dados.head() \n"
   ]
  },
  {
   "cell_type": "code",
   "execution_count": null,
   "metadata": {},
   "outputs": [],
   "source": [
    "#Verificação do número de linhas e colunas\n",
    "dados.shape"
   ]
  },
  {
   "cell_type": "code",
   "execution_count": null,
   "metadata": {},
   "outputs": [],
   "source": [
    "# Removendo todas as linhas onde o assunto não é \"esporte\"\n",
    "dados_esporte = dados[~dados['assunto'].isin(['economia', 'política', 'famosos'])]"
   ]
  },
  {
   "cell_type": "code",
   "execution_count": null,
   "metadata": {},
   "outputs": [],
   "source": [
    "# Exibir as 5 primeiras linhas do novo dataframe 'dados_esporte'\n",
    "dados_esporte.head()"
   ]
  },
  {
   "cell_type": "code",
   "execution_count": null,
   "metadata": {},
   "outputs": [],
   "source": [
    "#Verificação do número de linhas e colunas\n",
    "dados_esporte.shape\n"
   ]
  },
  {
   "cell_type": "code",
   "execution_count": null,
   "metadata": {},
   "outputs": [],
   "source": [
    "# Exibe as colunas para entender a estrutura\n",
    "print(dados_esporte.columns)\n"
   ]
  },
  {
   "cell_type": "code",
   "execution_count": null,
   "metadata": {},
   "outputs": [],
   "source": [
    "# Exemplo de leitura de uma notícia\n",
    "\n",
    "# 'conteudo_noticia' é o nome da coluna que armazena o texto\n",
    "print(dados_esporte['conteudo_noticia'][74])  "
   ]
  },
  {
   "cell_type": "code",
   "execution_count": null,
   "metadata": {},
   "outputs": [],
   "source": [
    "import re\n",
    "\n",
    "# Função de limpeza do texto ajustada para lidar com NaN\n",
    "def limpar_texto(texto):\n",
    "    if isinstance(texto, str):  # Verifica se o valor é uma string\n",
    "        texto = texto.lower()  # Normalização para minúsculas\n",
    "        texto = re.sub(r'[^\\w\\s]', '', texto)  # Remove pontuações\n",
    "        texto = re.sub(r'\\d+', '', texto)  # Remove números\n",
    "        return texto\n",
    "    return \"\"  # Retorna uma string vazia para valores não textuais (ex: NaN)\n",
    "\n",
    "# Aplicando a função a toda a coluna 'conteudo_noticia' de uma vez\n",
    "dados_esporte['conteudo_limpo'] = dados_esporte['conteudo_noticia'].apply(limpar_texto)\n",
    "\n",
    "# Exibindo o conteúdo limpo da linha 74 para conferir\n",
    "print(dados_esporte['conteudo_limpo'][74])\n"
   ]
  },
  {
   "cell_type": "code",
   "execution_count": null,
   "metadata": {},
   "outputs": [],
   "source": [
    "import nltk\n",
    "from nltk.corpus import stopwords\n",
    "\n",
    "nltk.download('stopwords')\n",
    "stop_words = set(stopwords.words('portuguese'))\n",
    "\n",
    "# Função para remover stopwords\n",
    "def remover_stopwords(texto):\n",
    "    palavras = texto.split()\n",
    "    palavras_filtradas = [palavra for palavra in palavras if palavra not in stop_words]\n",
    "    return ' '.join(palavras_filtradas)\n",
    "\n",
    "# Aplicando a função ao dataset\n",
    "dados_esporte['conteudo_sem_stopwords'] = dados_esporte['conteudo_limpo'].apply(remover_stopwords)\n",
    "print(dados_esporte['conteudo_sem_stopwords'][74])\n"
   ]
  },
  {
   "cell_type": "code",
   "execution_count": null,
   "metadata": {},
   "outputs": [],
   "source": [
    "from nltk.stem import WordNetLemmatizer\n",
    "\n",
    "nltk.download('wordnet')\n",
    "lemmatizer = WordNetLemmatizer()\n",
    "\n",
    "# Função para lematização\n",
    "def lematizar_texto(texto):\n",
    "    palavras = texto.split()\n",
    "    palavras_lematizadas = [lemmatizer.lemmatize(palavra) for palavra in palavras]\n",
    "    return ' '.join(palavras_lematizadas)\n",
    "\n",
    "# Aplicando a função de lematização\n",
    "dados_esporte['conteudo_lematizado'] = dados_esporte['conteudo_sem_stopwords'].apply(lematizar_texto)\n",
    "print(dados_esporte['conteudo_lematizado'].head())\n"
   ]
  },
  {
   "cell_type": "code",
   "execution_count": null,
   "metadata": {},
   "outputs": [],
   "source": [
    "# Carregar o modelo de linguagem do spaCy\n",
    "nlp = spacy.load(\"pt_core_news_sm\")\n"
   ]
  },
  {
   "cell_type": "code",
   "execution_count": null,
   "metadata": {},
   "outputs": [],
   "source": [
    "# Configurar stopwords\n",
    "api_stop_words = set(stopwords.words('portuguese'))\n",
    "minhas_stop_words = {'a', 'e', 'i', 'o', 'u'}\n",
    "stop_words = api_stop_words | minhas_stop_words"
   ]
  },
  {
   "cell_type": "code",
   "execution_count": null,
   "metadata": {},
   "outputs": [],
   "source": [
    "# Configurar stopwords\n",
    "api_stop_words = set(stopwords.words('portuguese'))\n",
    "minhas_stop_words = {'a', 'e', 'i', 'o', 'u'}\n",
    "stop_words = api_stop_words | minhas_stop_words"
   ]
  },
  {
   "cell_type": "code",
   "execution_count": null,
   "metadata": {},
   "outputs": [],
   "source": [
    "# Função para fazer o tratamento de linguagem natural no texto\n",
    "def tratamento_pln(texto):\n",
    "    texto = texto.lower()  # Normalizar para minúsculas\n",
    "    texto = re.sub(r'[^a-zA-Záéíóú\\s]', '', texto)  # Remover números e pontuações\n",
    "    doc = nlp(texto)\n",
    "    clean_tokens = [token.lemma_ for token in doc if token.text not in stop_words and not token.is_punct]\n",
    "    clean_text = ' '.join(clean_tokens)\n",
    "    return clean_text"
   ]
  },
  {
   "cell_type": "code",
   "execution_count": null,
   "metadata": {},
   "outputs": [],
   "source": [
    "# Limpar e tratar o texto das notícias\n",
    "dados_esporte['conteudo_tratado'] = dados_esporte['conteudo_noticia'].apply(tratamento_pln)"
   ]
  },
  {
   "cell_type": "code",
   "execution_count": null,
   "metadata": {},
   "outputs": [],
   "source": [
    "# Dividir o texto em chunks\n",
    "text_splitter = RecursiveCharacterTextSplitter(chunk_size=40, chunk_overlap=10)\n",
    "chunks = [chunk for noticia in dados['conteudo_tratado'] for chunk in text_splitter.split_text(noticia)]"
   ]
  },
  {
   "cell_type": "code",
   "execution_count": null,
   "metadata": {},
   "outputs": [],
   "source": [
    "# Carregar o modelo de embeddings\n",
    "model = SentenceTransformer('all-MiniLM-L6-v2')\n",
    "embeddings = model.encode(chunks)"
   ]
  },
  {
   "cell_type": "code",
   "execution_count": null,
   "metadata": {},
   "outputs": [],
   "source": [
    "# Gerar IDs para cada chunk\n",
    "uids = [f\"noticia_{i}\" for i in range(len(chunks))]"
   ]
  },
  {
   "cell_type": "code",
   "execution_count": null,
   "metadata": {},
   "outputs": [],
   "source": [
    "# Conectar ao banco de dados vetorial ChromaDB\n",
    "client = chromadb.Client()\n",
    "collection = client.create_collection(name=\"noticias_vetorial\")"
   ]
  },
  {
   "cell_type": "code",
   "execution_count": null,
   "metadata": {},
   "outputs": [],
   "source": [
    "# Adicionar documentos ao banco de dados\n",
    "collection.add(documents=chunks, embeddings=embeddings, ids=uids)"
   ]
  },
  {
   "cell_type": "code",
   "execution_count": null,
   "metadata": {},
   "outputs": [],
   "source": [
    "# Função para consulta ao banco vetorial\n",
    "def consulta_vetorial(query_text):\n",
    "    query_embedding = model.encode([query_text])\n",
    "    results = collection.query(query_embeddings=query_embedding, n_results=1)\n",
    "    for i in range(len(results['ids'][0])):\n",
    "        doc_id = results['ids'][0][i]\n",
    "        distance = results['distances'][0][i]\n",
    "        document = results['documents'][0][i]\n",
    "        print(f\"ID: {doc_id}\")\n",
    "        print(f\"Distância: {distance}\")\n",
    "        print(f\"Documento: {document}\")\n",
    "        print(\"-\" * 40)"
   ]
  },
  {
   "cell_type": "code",
   "execution_count": null,
   "metadata": {},
   "outputs": [],
   "source": [
    "# Exemplo de consulta\n",
    "consulta_vetorial(\"termos de busca\")"
   ]
  },
  {
   "cell_type": "code",
   "execution_count": null,
   "metadata": {},
   "outputs": [],
   "source": [
    "# Função para dividir o texto em chunks de N palavras\n",
    "def dividir_em_chunks(texto, tamanho_chunk=50):\n",
    "    palavras = texto.split()\n",
    "    chunks = [' '.join(palavras[i:i + tamanho_chunk]) for i in range(0, len(palavras), tamanho_chunk)]\n",
    "    return chunks\n",
    "\n",
    "# Aplicando a divisão no dataset\n",
    "dados_esporte['chunks'] = dados_esporte['conteudo_lematizado'].apply(dividir_em_chunks)\n",
    "print(dados_esporte['chunks'][74])\n"
   ]
  },
  {
   "cell_type": "code",
   "execution_count": null,
   "metadata": {},
   "outputs": [],
   "source": [
    "from transformers import BertModel, BertTokenizer\n",
    "import torch\n",
    "\n",
    "# Carregar o modelo e o tokenizer do BERTimbau\n",
    "tokenizer = BertTokenizer.from_pretrained('neuralmind/bert-base-portuguese-cased')\n",
    "model = BertModel.from_pretrained('neuralmind/bert-base-portuguese-cased')\n",
    "\n",
    "# Função para criar embeddings\n",
    "def criar_embedding(texto):\n",
    "    inputs = tokenizer(texto, return_tensors='pt', truncation=True, padding=True, max_length=512)\n",
    "    outputs = model(**inputs)\n",
    "    embeddings = outputs.last_hidden_state.mean(dim=1).squeeze()  # Média das embeddings\n",
    "    return embeddings.detach().numpy()\n",
    "\n",
    "# Aplicar embedding em um dos chunks\n",
    "dados_esporte['embeddings'] = dados_esporte['chunks'].apply(lambda chunks: [criar_embedding(chunk) for chunk in chunks])\n",
    "print(dados_esporte['embeddings'][74])\n"
   ]
  },
  {
   "cell_type": "code",
   "execution_count": null,
   "metadata": {},
   "outputs": [],
   "source": [
    "from sklearn.metrics.pairwise import cosine_similarity\n",
    "\n",
    "# Função para calcular a similaridade de uma nova consulta com o texto\n",
    "def similaridade_coseno(embedding1, embedding2):\n",
    "    return cosine_similarity([embedding1], [embedding2])[0][0]\n",
    "\n",
    "# Exemplo de similaridade entre os embeddings do primeiro e segundo chunks de um texto\n",
    "similaridade = similaridade_coseno(dados_esporte['embeddings'][0][0], dados_esporte['embeddings'][0][1])\n",
    "print(\"Similaridade coseno entre chunks:\", similaridade)\n"
   ]
  }
 ],
 "metadata": {
  "kernelspec": {
   "display_name": "Python 3",
   "language": "python",
   "name": "python3"
  },
  "language_info": {
   "codemirror_mode": {
    "name": "ipython",
    "version": 3
   },
   "file_extension": ".py",
   "mimetype": "text/x-python",
   "name": "python",
   "nbconvert_exporter": "python",
   "pygments_lexer": "ipython3",
   "version": "3.12.7"
  }
 },
 "nbformat": 4,
 "nbformat_minor": 2
}
