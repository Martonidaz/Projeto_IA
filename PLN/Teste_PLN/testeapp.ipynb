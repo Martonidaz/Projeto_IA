{
 "cells": [
  {
   "cell_type": "code",
   "execution_count": 1,
   "metadata": {},
   "outputs": [],
   "source": [
    "# Pacote de implementação de máquina preditiva\n",
    "import streamlit as st\n",
    "\n",
    "# NLTK - Natural Language Tool Kit\n",
    "import nltk"
   ]
  },
  {
   "cell_type": "code",
   "execution_count": null,
   "metadata": {},
   "outputs": [],
   "source": [
    "# 1º Criação do sistema \n",
    "# 2º Criação da Máquina Preditiiva (MP)/PLN\n",
    "# 3º Utilizacação do sistema"
   ]
  },
  {
   "cell_type": "code",
   "execution_count": 2,
   "metadata": {},
   "outputs": [
    {
     "name": "stderr",
     "output_type": "stream",
     "text": [
      "2024-11-15 16:28:12.121 WARNING streamlit.runtime.scriptrunner_utils.script_run_context: Thread 'MainThread': missing ScriptRunContext! This warning can be ignored when running in bare mode.\n",
      "2024-11-15 16:28:14.612 \n",
      "  \u001b[33m\u001b[1mWarning:\u001b[0m to view this Streamlit app on a browser, run it with the following\n",
      "  command:\n",
      "\n",
      "    streamlit run c:\\Users\\Daniel\\OneDrive\\Documentos\\GitRobson\\Projeto_IA_Walmir\\PLN\\.venv\\Lib\\site-packages\\ipykernel_launcher.py [ARGUMENTS]\n",
      "2024-11-15 16:28:14.622 Thread 'MainThread': missing ScriptRunContext! This warning can be ignored when running in bare mode.\n",
      "2024-11-15 16:28:14.622 Thread 'MainThread': missing ScriptRunContext! This warning can be ignored when running in bare mode.\n",
      "2024-11-15 16:28:14.622 Thread 'MainThread': missing ScriptRunContext! This warning can be ignored when running in bare mode.\n",
      "2024-11-15 16:28:14.636 Thread 'MainThread': missing ScriptRunContext! This warning can be ignored when running in bare mode.\n",
      "2024-11-15 16:28:14.641 Thread 'MainThread': missing ScriptRunContext! This warning can be ignored when running in bare mode.\n",
      "2024-11-15 16:28:14.652 Thread 'MainThread': missing ScriptRunContext! This warning can be ignored when running in bare mode.\n",
      "2024-11-15 16:28:14.656 Thread 'MainThread': missing ScriptRunContext! This warning can be ignored when running in bare mode.\n",
      "2024-11-15 16:28:14.666 Session state does not function when running a script without `streamlit run`\n",
      "2024-11-15 16:28:14.676 Thread 'MainThread': missing ScriptRunContext! This warning can be ignored when running in bare mode.\n",
      "2024-11-15 16:28:14.686 Thread 'MainThread': missing ScriptRunContext! This warning can be ignored when running in bare mode.\n"
     ]
    }
   ],
   "source": [
    "# Fase 1\n",
    "\n",
    "# Título do sistema\n",
    "st.write(\"Análise de satisfação do cliente\")\n",
    "\n",
    "# Entrada de dados do usuário - manisfestação do cliente\n",
    "user_input = st.text_input(\"Por favor avalie nosso atendimento : \")\n"
   ]
  },
  {
   "cell_type": "code",
   "execution_count": 3,
   "metadata": {},
   "outputs": [
    {
     "name": "stderr",
     "output_type": "stream",
     "text": [
      "[nltk_data] Downloading package vader_lexicon to\n",
      "[nltk_data]     C:\\Users\\Daniel\\AppData\\Roaming\\nltk_data...\n"
     ]
    }
   ],
   "source": [
    "# Fase 2 \n",
    "\n",
    "# Criação da Máquina Preditiva de satisfação do cliente\n",
    "\n",
    "# Metodologia Vader utilizada e com isso baixar o vocabulário\n",
    "nltk.download('vader_lexicon')\n",
    "\n",
    "\n",
    "# Para usar o analisador de sentimento\n",
    "from nltk.sentiment.vader import SentimentIntensityAnalyzer\n",
    "\n",
    "# MP\n",
    "satisfacao = SentimentIntensityAnalyzer()\n",
    "\n",
    "# Predição ou resultado da satisfação função para avaliar o tipo do sentimento do usuário\n",
    "score = satisfacao.polarity_scores(user_input)\n",
    "\n",
    "# Refinamento\n",
    "\n",
    "if score == 0:\n",
    "    st.write('Análise neutra')\n",
    "elif score['neg'] != 0:\n",
    "    st.write(\"Análise Negativa\")\n",
    "elif score['pos'] != 0:\n",
    "    st.write('Análise Posiitiva')\n",
    "\n",
    "    \n",
    "\n"
   ]
  },
  {
   "cell_type": "code",
   "execution_count": null,
   "metadata": {},
   "outputs": [],
   "source": [
    "# Fase 3\n",
    "\n",
    "# Utilizando o módulo da aplicação local do python\n",
    "\n",
    "\n"
   ]
  }
 ],
 "metadata": {
  "kernelspec": {
   "display_name": ".venv",
   "language": "python",
   "name": "python3"
  },
  "language_info": {
   "codemirror_mode": {
    "name": "ipython",
    "version": 3
   },
   "file_extension": ".py",
   "mimetype": "text/x-python",
   "name": "python",
   "nbconvert_exporter": "python",
   "pygments_lexer": "ipython3",
   "version": "3.12.7"
  }
 },
 "nbformat": 4,
 "nbformat_minor": 2
}
