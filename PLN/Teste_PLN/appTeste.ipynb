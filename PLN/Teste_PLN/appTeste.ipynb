{
 "cells": [
  {
   "cell_type": "code",
   "execution_count": null,
   "metadata": {},
   "outputs": [],
   "source": [
    "import pandas as pd\n",
    "\n",
    "# Carregar o dataset\n",
    "dados = pd.read_csv(\"Historico_de_materias.csv\")\n",
    "\n",
    "# Exibir as 5 primeiras linhas do dataset\n",
    "dados.head()\n"
   ]
  },
  {
   "cell_type": "code",
   "execution_count": null,
   "metadata": {},
   "outputs": [],
   "source": [
    "# Verificação do número de linhas e colunas\n",
    "dados.shape"
   ]
  },
  {
   "cell_type": "code",
   "execution_count": null,
   "metadata": {},
   "outputs": [],
   "source": [
    "# Removendo todas as linhas onde o assunto não é \"esporte\"\n",
    "dados_esporte = dados[~dados['assunto'].isin(['economia', 'política', 'famosos'])]"
   ]
  },
  {
   "cell_type": "code",
   "execution_count": null,
   "metadata": {},
   "outputs": [],
   "source": [
    "# Exibir as 5 primeiras linhas do novo dataframe 'dados_esporte'\n",
    "dados_esporte.head()"
   ]
  },
  {
   "cell_type": "code",
   "execution_count": null,
   "metadata": {},
   "outputs": [],
   "source": [
    "#Verificação do número de linhas e colunas\n",
    "dados_esporte.shape\n"
   ]
  },
  {
   "cell_type": "code",
   "execution_count": null,
   "metadata": {},
   "outputs": [],
   "source": [
    "# Exibe as colunas para entender a estrutura\n",
    "print(dados_esporte.columns)\n"
   ]
  },
  {
   "cell_type": "code",
   "execution_count": null,
   "metadata": {},
   "outputs": [],
   "source": [
    "# Exemplo de leitura de uma notícia\n",
    "\n",
    "# 'conteudo_noticia' é o nome da coluna que armazena o texto\n",
    "print(dados_esporte['conteudo_noticia'][74])  "
   ]
  },
  {
   "cell_type": "code",
   "execution_count": null,
   "metadata": {},
   "outputs": [],
   "source": [
    "# Carregar o modelo de linguagem do spaCy\n",
    "import spacy\n",
    "\n",
    "nlp = spacy.load(\"pt_core_news_sm\")\n"
   ]
  },
  {
   "cell_type": "code",
   "execution_count": null,
   "metadata": {},
   "outputs": [],
   "source": [
    "# Configurar stopwords\n",
    "import nltk\n",
    "from nltk.corpus import stopwords\n",
    "\n",
    "api_stop_words = set(stopwords.words('portuguese'))\n",
    "minhas_stop_words = {'a', 'e', 'i', 'o', 'u'}\n",
    "stop_words = api_stop_words | minhas_stop_words"
   ]
  },
  {
   "cell_type": "code",
   "execution_count": null,
   "metadata": {},
   "outputs": [],
   "source": [
    "# Função para fazer o tratamento de linguagem natural no texto\n",
    "import re\n",
    "\n",
    "def tratamento_pln(texto):\n",
    "    texto = texto.lower()  # Normalizar para minúsculas\n",
    "    texto = re.sub(r'[^a-zA-Záéíóú\\s]', '', texto)  # Remover números e pontuações\n",
    "    doc = nlp(texto)\n",
    "    clean_tokens = [token.lemma_ for token in doc if token.text not in stop_words and not token.is_punct]\n",
    "    clean_text = ' '.join(clean_tokens)\n",
    "    return clean_text"
   ]
  },
  {
   "cell_type": "code",
   "execution_count": null,
   "metadata": {},
   "outputs": [],
   "source": [
    "# Dividir o texto em chunks\n",
    "from langchain.text_splitter import RecursiveCharacterTextSplitter\n",
    "\n",
    "# Certificar-se de que todos os valores em 'conteudo_noticia' são strings, substituindo NaN por strings vazias\n",
    "dados_esporte['conteudo_noticia'] = dados_esporte['conteudo_noticia'].fillna(\"\").astype(str)\n",
    "\n",
    "text_splitter = RecursiveCharacterTextSplitter(chunk_size=40, chunk_overlap=10)\n",
    "chunks = [chunk for noticia in dados_esporte['conteudo_noticia'] for chunk in text_splitter.split_text(noticia)]\n"
   ]
  },
  {
   "cell_type": "code",
   "execution_count": null,
   "metadata": {},
   "outputs": [],
   "source": [
    "# Carregar o modelo de embeddings\n",
    "from sentence_transformers import SentenceTransformer\n",
    "\n",
    "model = SentenceTransformer('all-MiniLM-L6-v2')\n",
    "embeddings = model.encode(chunks)"
   ]
  },
  {
   "cell_type": "code",
   "execution_count": null,
   "metadata": {},
   "outputs": [],
   "source": [
    "# Gerar IDs para cada chunk\n",
    "uids = [f\"noticia_{i}\" for i in range(len(chunks))]"
   ]
  },
  {
   "cell_type": "code",
   "execution_count": null,
   "metadata": {},
   "outputs": [],
   "source": [
    "# Conectar ao banco de dados vetorial ChromaDB\n",
    "import chromadb\n",
    "\n",
    "client = chromadb.Client()\n",
    "collection = client.create_collection(name=\"noticias_vetorial\")"
   ]
  },
  {
   "cell_type": "code",
   "execution_count": null,
   "metadata": {},
   "outputs": [],
   "source": [
    "# Adicionar documentos ao banco de dados\n",
    "collection.add(documents=chunks, embeddings=embeddings, ids=uids)"
   ]
  },
  {
   "cell_type": "code",
   "execution_count": null,
   "metadata": {},
   "outputs": [],
   "source": [
    "# Função para consulta ao banco vetorial\n",
    "def consulta_vetorial(query_text):\n",
    "    query_embedding = model.encode([query_text])\n",
    "    results = collection.query(query_embeddings=query_embedding, n_results=1)\n",
    "    for i in range(len(results['ids'][0])):\n",
    "        doc_id = results['ids'][0][i]\n",
    "        distance = results['distances'][0][i]\n",
    "        document = results['documents'][0][i]\n",
    "        print(f\"ID: {doc_id}\")\n",
    "        print(f\"Distância: {distance}\")\n",
    "        print(f\"Documento: {document}\")\n",
    "        print(\"-\" * 40)"
   ]
  },
  {
   "cell_type": "code",
   "execution_count": null,
   "metadata": {},
   "outputs": [],
   "source": [
    "# Exemplo de consulta\n",
    "consulta_vetorial(\"termos de busca\")"
   ]
  },
  {
   "cell_type": "code",
   "execution_count": null,
   "metadata": {},
   "outputs": [],
   "source": []
  },
  {
   "cell_type": "code",
   "execution_count": null,
   "metadata": {},
   "outputs": [],
   "source": []
  },
  {
   "cell_type": "code",
   "execution_count": null,
   "metadata": {},
   "outputs": [],
   "source": []
  },
  {
   "cell_type": "code",
   "execution_count": null,
   "metadata": {},
   "outputs": [],
   "source": []
  }
 ],
 "metadata": {
  "kernelspec": {
   "display_name": "Python 3",
   "language": "python",
   "name": "python3"
  },
  "language_info": {
   "codemirror_mode": {
    "name": "ipython",
    "version": 3
   },
   "file_extension": ".py",
   "mimetype": "text/x-python",
   "name": "python",
   "nbconvert_exporter": "python",
   "pygments_lexer": "ipython3",
   "version": "3.12.7"
  }
 },
 "nbformat": 4,
 "nbformat_minor": 2
}
